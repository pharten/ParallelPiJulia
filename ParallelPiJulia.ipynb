{
 "cells": [
  {
   "cell_type": "code",
   "execution_count": 7,
   "metadata": {},
   "outputs": [
    {
     "data": {
      "text/plain": [
       "parallel_pi (generic function with 1 method)"
      ]
     },
     "execution_count": 7,
     "metadata": {},
     "output_type": "execute_result"
    }
   ],
   "source": [
    "using Distributed\n",
    "\n",
    "ncores = 32\n",
    "addprocs(ncores) # nCPUs need to be set before parallel macros appear\n",
    "\n",
    "include(\"src\\\\compute_pi.jl\")\n",
    "include(\"src\\\\parallel_pi.jl\")\n"
   ]
  },
  {
   "cell_type": "code",
   "execution_count": 8,
   "metadata": {},
   "outputs": [
    {
     "name": "stdout",
     "output_type": "stream",
     "text": [
      "      From worker 20:\t m = 312500000\n",
      "      From worker 5:\t m = 312500000\n",
      "      From worker 30:\t m = 312500000\n",
      "      From worker 6:\t m = 312500000\n",
      "      From worker 33:\t m = 312500000\n",
      "      From worker 8:\t m = 312500000\n",
      "      From worker 28:\t m = 312500000\n",
      "      From worker 26:\t m = 312500000\n",
      "      From worker 16:\t m = 312500000\n",
      "      From worker 22:\t m = 312500000\n",
      "      From worker 2:\t m = 312500000\n",
      "      From worker 7:\t m = 312500000\n",
      "      From worker 17:\t m = 312500000\n",
      "      From worker 9:\t m = 312500000\n",
      "      From worker 15:\t m = 312500000\n",
      "      From worker 21:\t m = 312500000\n",
      "      From worker 12:\t m = 312500000\n",
      "      From worker 4:\t m = 312500000\n",
      "      From worker 3:\t m = 312500000\n",
      "      From worker 23:\t m = 312500000\n",
      "      From worker 25:\t m = 312500000\n",
      "      From worker 19:\t m = 312500000\n",
      "      From worker 11:\t m = 312500000\n",
      "      From worker 13:\t m = 312500000\n",
      "      From worker 10:\t m = 312500000\n",
      "      From worker 24:\t m = 312500000\n",
      "      From worker 27:\t m = 312500000\n",
      "      From worker 29:\t m = 312500000\n",
      "      From worker 14:\t m = 312500000\n",
      "      From worker 32:\t m = 312500000\n",
      "      From worker 31:\t m = 312500000\n",
      "      From worker 18:\t m = 312500000\n",
      " 11.363711 seconds (261.71 k allocations: 12.870 MiB, 0.13% gc time)\n",
      "π = 3.1415926535897..., ppi = 3.1416369304000007 +/- 1.5091032830301613e-5\n"
     ]
    }
   ],
   "source": [
    "#define julia_p as \"julia -p 1\" that is \"-p 1\" as argument to the interpreter \"julia\"\n",
    "#the above seems to be necessary to accept the parallel macros\n",
    "\n",
    "@time ppi, uncert = parallel_pi(10000000000, ncores)\n",
    "\n",
    "println(pi,\", ppi = \",ppi,\" +/- \",uncert)\n"
   ]
  },
  {
   "cell_type": "code",
   "execution_count": null,
   "metadata": {},
   "outputs": [],
   "source": []
  },
  {
   "cell_type": "code",
   "execution_count": null,
   "metadata": {},
   "outputs": [],
   "source": []
  }
 ],
 "metadata": {
  "kernelspec": {
   "display_name": "Julia 1.1.0",
   "language": "julia",
   "name": "julia-1.1"
  },
  "language_info": {
   "file_extension": ".jl",
   "mimetype": "application/julia",
   "name": "julia",
   "version": "1.1.0"
  }
 },
 "nbformat": 4,
 "nbformat_minor": 2
}
