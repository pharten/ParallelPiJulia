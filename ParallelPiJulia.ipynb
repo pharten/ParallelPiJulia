{
 "cells": [
  {
   "cell_type": "code",
   "execution_count": 1,
   "id": "4467169e-6879-40f7-acc9-1c4567017ae3",
   "metadata": {},
   "outputs": [
    {
     "data": {
      "text/plain": [
       "parallel_pi (generic function with 1 method)"
      ]
     },
     "execution_count": 1,
     "metadata": {},
     "output_type": "execute_result"
    }
   ],
   "source": [
    "using Distributed\n",
    "\n",
    "ncores = 16\n",
    "addprocs(ncores)\n",
    "\n",
    "include(\"src\\\\compute_pi.jl\")\n",
    "include(\"src\\\\parallel_pi.jl\")"
   ]
  },
  {
   "cell_type": "code",
   "execution_count": 2,
   "id": "d320c999-096a-413f-8a4e-d50e11a5da5d",
   "metadata": {},
   "outputs": [
    {
     "name": "stdout",
     "output_type": "stream",
     "text": [
      " m =  2500000000\n",
      " 25.056749 seconds (1.96 M allocations: 101.555 MiB, 0.11% gc time, 3.05% compilation time)\n",
      "π = 3.141592653589793, ppi = 3.1415918421 +/- 6.32455558198478e-6\n"
     ]
    }
   ],
   "source": [
    "#define julia_p as \"julia -p 1\" that is \"-p 1\" as argument to the interpreter \"julia\"\n",
    "#the above seems to be necessary to accept the parallel macros\n",
    "\n",
    "@time ppi, uncert = parallel_pi(40000000000, ncores)\n",
    "\n",
    "println(pi,\" = \",pi+0.0,\", ppi = \",ppi,\" +/- \",uncert)"
   ]
  }
 ],
 "metadata": {
  "kernelspec": {
   "display_name": "Julia 1.8.0",
   "language": "julia",
   "name": "julia-1.8"
  },
  "language_info": {
   "file_extension": ".jl",
   "mimetype": "application/julia",
   "name": "julia",
   "version": "1.8.0"
  }
 },
 "nbformat": 4,
 "nbformat_minor": 5
}
